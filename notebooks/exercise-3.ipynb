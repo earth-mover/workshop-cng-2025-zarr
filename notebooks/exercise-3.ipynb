{
 "cells": [
  {
   "cell_type": "markdown",
   "metadata": {},
   "source": [
    "## Exercise 3: Doing it all again with Icechunk 🧊\n",
    "\n",
    "[Icechunk](https://icechunk.io/en/latest/overview/) augments the Zarr storage model to provide additional features such as data version control and transactions. For production-grade datasets, it is an ideal complement to the Zarr storage model for geospatial data. Let's run through the same data cube exercise above, but with Icechunk!\n",
    "\n",
    "1. one year per commit."
   ]
  },
  {
   "cell_type": "code",
   "execution_count": null,
   "metadata": {},
   "outputs": [],
   "source": [
    "import rioxarray\n",
    "import xarray as xr\n",
    "import icechunk\n",
    "\n",
    "import icechunk\n",
    "import rioxarray\n",
    "import xarray as xr\n",
    "\n",
    "# Initialize Icechunk storage and repo\n",
    "storage = icechunk.local_filesystem_storage(\"/Users/lindseynield/workshop-cng-2025-zarr/ic\")\n",
    "ic_repo = icechunk.Repository.create(storage)\n",
    "\n",
    "# Start a new Icechunk writeable session\n",
    "session = ic_repo.writable_session(branch=\"main\")\n",
    "store = session.store\n",
    "\n",
    "# file_name = \"40N_120W\"  # Feel free to change this to any of the other files in the dataset\n",
    "# years = [2000, 2005, 2010, 2015, 2020]\n",
    "# data_arrays = []\n",
    "\n",
    "# TODO: use the append_dim for icechunk commits \n",
    "\n",
    "# TODO create initial icechunk store with one year's worth of data\n",
    "\n",
    "\n",
    "# TODO append each year in a loop (except for 2020)\n",
    "\n",
    "# for year in years:\n",
    "#     url = f\"https://storage.googleapis.com/earthenginepartners-hansen/GLCLU2000-2020/v2/{year}/{file_name}.tif\"\n",
    "#     da = rioxarray.open_rasterio(url, chunks={\"x\": 4000, \"y\": 4000})\n",
    "#     da = da.rename({\"band\": \"lulc\"})\n",
    "#     da = da.squeeze(\"lulc\")\n",
    "#     # NOTE: expand_dims will read the data in \n",
    "#     da = da.expand_dims(dim={\"year\": [year]})  # Add a 'year' dimension\n",
    "#     data_arrays.append(da)\n",
    "\n",
    "# # Concatenate the data arrays along the 'year' dimension\n",
    "# combined = xr.concat(data_arrays, dim=\"year\")\n",
    "# combined"
   ]
  },
  {
   "cell_type": "code",
   "execution_count": null,
   "metadata": {},
   "outputs": [],
   "source": [
    "# TODO open icechunk store and plot"
   ]
  },
  {
   "cell_type": "code",
   "execution_count": null,
   "metadata": {},
   "outputs": [],
   "source": [
    "# TODO: show off why version control is important\n",
    "# Make the whole icechunk store\n",
    "# Add in 2020\n",
    "# This would be hard in Zarr because..\n",
    "\n",
    "Icechunk icechunk icechunk icechunk\n",
    "\n"
   ]
  },
  {
   "cell_type": "markdown",
   "metadata": {},
   "source": [
    "## Virtualization\n",
    "\n",
    "TODO: virtualizarr discussion\n",
    "2. point out that virtual zarr is possible.\n",
    "    1. Data model is separable from the file format "
   ]
  }
 ],
 "metadata": {
  "language_info": {
   "name": "python"
  }
 },
 "nbformat": 4,
 "nbformat_minor": 2
}
