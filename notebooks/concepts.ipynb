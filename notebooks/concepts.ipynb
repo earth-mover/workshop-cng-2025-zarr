{
 "cells": [
  {
   "cell_type": "markdown",
   "metadata": {},
   "source": [
    "# Title\n",
    "\n",
    "description"
   ]
  },
  {
   "cell_type": "markdown",
   "metadata": {},
   "source": [
    "## Concepts\n",
    "\n",
    "2. Conceptually: Level-2 swath vs Level-3+ datacubes\n",
    "    1. Xarray data model; `glad.tif`\n",
    "        1. dims/coordinates/data variables\n",
    "    2. GDAL Raster data model; `glad.tif`\n",
    "    3. Zarr data model : `glad.zarr`\n",
    "    4. Icechunk version control model?\n",
    "3. Spatial Reference Systems in GeoTIFF & CF\n",
    "    1. how is this stored, how do you access it."
   ]
  },
  {
   "cell_type": "markdown",
   "metadata": {},
   "source": [
    "### Level 2 vs. Level 3 data\n",
    "- L2:\n",
    "- L3: "
   ]
  },
  {
   "cell_type": "markdown",
   "metadata": {},
   "source": [
    "### COG Data Model"
   ]
  },
  {
   "cell_type": "markdown",
   "metadata": {},
   "source": [
    "### Xarray Data Model"
   ]
  },
  {
   "cell_type": "markdown",
   "metadata": {},
   "source": [
    "### Zarr Storage Model"
   ]
  },
  {
   "cell_type": "markdown",
   "metadata": {},
   "source": [
    "## GLAD LULC Data"
   ]
  },
  {
   "cell_type": "markdown",
   "metadata": {},
   "source": [
    "In this tutorial, we will be working with the Global Land Analysis & Discovery (GLAD) Global Land Cover and Land Use Change, 2000-2020 dataset: https://glad.umd.edu/dataset/GLCLUC2020 [1]\n",
    "\n",
    "This 30m dataset consists of 10x10 degree tiles of combined land cover for 2000, 2005, 2010, 2015 and 2020, as well as 2000-2020 land cover/use change. We will be using the annual land use and land cover data for this tutorial, but feel free to challenge yourself and ingest the land use change data on your own!\n",
    "\n",
    "TODO"
   ]
  },
  {
   "cell_type": "markdown",
   "metadata": {},
   "source": [
    "### Legend\n",
    "TODO"
   ]
  },
  {
   "cell_type": "markdown",
   "metadata": {},
   "source": [
    "### Data Format"
   ]
  },
  {
   "cell_type": "markdown",
   "metadata": {},
   "source": [
    "This dataset is formatted as individual 10x10 degree granules stored in TIF files, one per year. \n",
    "TODO"
   ]
  },
  {
   "cell_type": "markdown",
   "metadata": {},
   "source": [
    "![alt text](../assets/GLAD_data_coverage.png \"Title\")\n",
    "Taken from: https://storage.googleapis.com/earthenginepartners-hansen/GLCLU2000-2020/v2/download.html"
   ]
  },
  {
   "cell_type": "markdown",
   "metadata": {},
   "source": [
    "We will start by converting one of these tiles for one year into zarr and visualize the result\n",
    "Then converting the same tile over all available years into a zarr data cube\n",
    "Finally, build up to creating a global zarr data cube for all years"
   ]
  }
 ],
 "metadata": {
  "kernelspec": {
   "display_name": "em-workshop-env",
   "language": "python",
   "name": "python3"
  },
  "language_info": {
   "codemirror_mode": {
    "name": "ipython",
    "version": 3
   },
   "file_extension": ".py",
   "mimetype": "text/x-python",
   "name": "python",
   "nbconvert_exporter": "python",
   "pygments_lexer": "ipython3",
   "version": "3.12.9"
  }
 },
 "nbformat": 4,
 "nbformat_minor": 4
}
