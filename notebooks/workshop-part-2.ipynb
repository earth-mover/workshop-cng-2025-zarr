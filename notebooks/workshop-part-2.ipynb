{
 "cells": [
  {
   "cell_type": "markdown",
   "metadata": {},
   "source": [
    "# Part 2: The whole world is a cube!\n",
    "\n",
    "Now that we have learned to convert gridded, timeseries raster data into a datacube, let's scale up to the entire global GLAD dataset. In the interest of time, we are not going to build this datacube in this workshop. However, we will walk through how we did it."
   ]
  },
  {
   "cell_type": "markdown",
   "metadata": {},
   "source": [
    "## Global Datacube\n",
    "\n",
    "TODO: link to notebook\n",
    "TODO: link to zarr dataset\n",
    "TODO: Talk about the process of making this cube\n"
   ]
  },
  {
   "cell_type": "code",
   "execution_count": null,
   "metadata": {
    "vscode": {
     "languageId": "plaintext"
    }
   },
   "outputs": [],
   "source": [
    "# Read in the datacube from zarr into xarray"
   ]
  },
  {
   "cell_type": "markdown",
   "metadata": {},
   "source": [
    "## Zonal Statistics\n",
    "\n",
    "TODO: come up with a set of queries/questions for participants to explore\n",
    "Do one together\n",
    "Have people go off and answer on their own\n",
    "\n",
    "Country boundary files: https://public.opendatasoft.com/explore/dataset/world-administrative-boundaries/export/?flg=en-us\n",
    "\n",
    "\n",
    "## Masking\n",
    "\n",
    "## Reprojection"
   ]
  },
  {
   "cell_type": "markdown",
   "metadata": {},
   "source": [
    "# The Grand Finale"
   ]
  }
 ],
 "metadata": {
  "kernelspec": {
   "display_name": "em-workshop-env",
   "language": "python",
   "name": "python3"
  },
  "language_info": {
   "codemirror_mode": {
    "name": "ipython",
    "version": 3
   },
   "file_extension": ".py",
   "mimetype": "text/x-python",
   "name": "python",
   "nbconvert_exporter": "python",
   "pygments_lexer": "ipython3",
   "version": "3.12.9"
  }
 },
 "nbformat": 4,
 "nbformat_minor": 2
}
