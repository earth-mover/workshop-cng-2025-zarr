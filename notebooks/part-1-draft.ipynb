{
 "cells": [
  {
   "cell_type": "markdown",
   "metadata": {},
   "source": [
    "### Survey\n",
    "TODO: Quick survey of who is in the room, with what background?"
   ]
  },
  {
   "cell_type": "markdown",
   "metadata": {},
   "source": [
    "In this tutorial, we will be working with the GLAD LULC dataset: "
   ]
  },
  {
   "cell_type": "markdown",
   "metadata": {},
   "source": [
    "2. Conceptually: Level-2 swath vs Level-3+ datacubes\n",
    "    1. Xarray data model; `glad.tif`\n",
    "        1. dims/coordinates/data variables\n",
    "    2. GDAL Raster data model; `glad.tif`\n",
    "    3. Zarr data model : `glad.zarr`\n",
    "    4. Icechunk version control model?\n",
    "3. Spatial Reference Systems in GeoTIFF & CF\n",
    "    1. how is this stored, how do you access it.\n",
    "4. Quick visualizing\n",
    "    1. how do you put the data on a map?\n",
    "    2. https://leafmap.org/tutorials/\n",
    "\n",
    "**Exercise 1:** open a different geotiff with rioxarray; open a zarr with open_zarr; navigate xarray repr; quick viz\n",
    "**Exercise 2:** Read and convert to a Zarr data cube. We will provide three Level 3 GeoTIFF image stack datasets (just concat)\n",
    "\n",
    "1. Cloud-native bit:\n",
    "\n",
    "**Exercise 3:** Now again with Icechunk\n",
    "\n",
    "1. one year per commit.\n",
    "2. point out that virtual zarr is possible.\n",
    "    1. Data model is separable from the file format"
   ]
  },
  {
   "cell_type": "markdown",
   "metadata": {},
   "source": [
    "TODO: virtualizarr discussion "
   ]
  }
 ],
 "metadata": {
  "language_info": {
   "name": "python"
  }
 },
 "nbformat": 4,
 "nbformat_minor": 2
}
